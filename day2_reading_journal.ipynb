{
 "cells": [
  {
   "cell_type": "markdown",
   "metadata": {},
   "source": [
    "# Day 2 Reading Journal\n",
    "\n",
    "This journal includes several required exercises, but it is meant to encourage active reading more generally.  You should use the journal to take detailed notes, catalog questions, and explore the content from Think Python deeply.\n",
    "\n",
    "Reading: Think Python Chapter 6.1-6.4, 7\n",
    "\n",
    "**Due: Tuesday, January 24 at 12 noon**\n",
    "\n"
   ]
  },
  {
   "cell_type": "markdown",
   "metadata": {},
   "source": [
    "## [Chapter 6.1-6.4](http://greenteapress.com/thinkpython2/html/thinkpython2007.html)\n",
    "\n",
    "Note: the exercise numbers below match up with the reading for ease of cross referencing."
   ]
  },
  {
   "cell_type": "markdown",
   "metadata": {},
   "source": [
    "**Quick check:** What is a _fruitful function_?"
   ]
  },
  {
   "cell_type": "markdown",
   "metadata": {},
   "source": [
    " "
   ]
  },
  {
   "cell_type": "markdown",
   "metadata": {},
   "source": [
    "### Chapter 6.1 \n",
    "Write a `compare` function that returns `1` if `x > y`, `0` if `x == y`, and `-1` if `x < y`."
   ]
  },
  {
   "cell_type": "code",
   "execution_count": 3,
   "metadata": {
    "collapsed": false
   },
   "outputs": [
    {
     "name": "stdout",
     "output_type": "stream",
     "text": [
      "0\n",
      "-1\n",
      "1\n"
     ]
    }
   ],
   "source": [
    "def compare(x,y):\n",
    "    #default case is that x is equal to y\n",
    "    toReturn = 0\n",
    "    \n",
    "    #if this is not the case the return variable is changed\n",
    "    if(x>y):\n",
    "        toReturn = 1\n",
    "    elif(x<y):\n",
    "        toReturn = -1\n",
    "    return toReturn\n",
    "\n",
    "print(compare(1,1))\n",
    "print(compare(1,2))\n",
    "print(compare(2,1))\n"
   ]
  },
  {
   "cell_type": "markdown",
   "metadata": {},
   "source": [
    "**Quick check:** Modify the `absolute_value` function so that it returns the correct result for all integer inputs."
   ]
  },
  {
   "cell_type": "code",
   "execution_count": 30,
   "metadata": {
    "collapsed": false
   },
   "outputs": [
    {
     "name": "stdout",
     "output_type": "stream",
     "text": [
      "0\n",
      "324\n"
     ]
    }
   ],
   "source": [
    "def absolute_value(x):\n",
    "    if x < 0:\n",
    "        return -x\n",
    "    elif x > 0:\n",
    "        return x\n",
    "    else:\n",
    "        return x\n",
    "    \n",
    "print(absolute_value(0))\n",
    "print(absolute_value(-324))"
   ]
  },
  {
   "cell_type": "markdown",
   "metadata": {},
   "source": [
    "### Chapter 6.2 \n",
    "Use incremental development to write a function called `hypotenuse` that returns the length of the hypotenuse of a right triangle given the lengths of the two legs as arguments. Record each stage of the development process as you go, using as many cells as you need."
   ]
  },
  {
   "cell_type": "code",
   "execution_count": 6,
   "metadata": {
    "collapsed": false
   },
   "outputs": [
    {
     "name": "stdout",
     "output_type": "stream",
     "text": [
      "5.315072906367325\n"
     ]
    }
   ],
   "source": [
    "def hypotenuse(a,b):\n",
    "    import math\n",
    "    return math.sqrt(a**2 + b**2)\n",
    "\n",
    "print(hypotenuse(3.5,4))\n"
   ]
  },
  {
   "cell_type": "markdown",
   "metadata": {},
   "source": [
    "### Chapter 6.4\n",
    "Write a function `is_between(x, y, z)` that returns `True` if `x ≤ y ≤ z` or `False` otherwise."
   ]
  },
  {
   "cell_type": "code",
   "execution_count": 31,
   "metadata": {
    "collapsed": false
   },
   "outputs": [
    {
     "name": "stdout",
     "output_type": "stream",
     "text": [
      "True\n",
      "False\n"
     ]
    }
   ],
   "source": [
    "def is_between(x,y,z):\n",
    "    if(x<=y and y <= z):\n",
    "        return True\n",
    "    else:\n",
    "        return False\n",
    "\n",
    "print(is_between(1,5,6))\n",
    "print(is_between(9,2,0))"
   ]
  },
  {
   "cell_type": "markdown",
   "metadata": {},
   "source": [
    "## [Chapter 7](http://greenteapress.com/thinkpython2/html/thinkpython2008.html)\n",
    "\n"
   ]
  },
  {
   "cell_type": "markdown",
   "metadata": {},
   "source": [
    "**Quick check:** How do you test for equality in Python?"
   ]
  },
  {
   "cell_type": "markdown",
   "metadata": {},
   "source": [
    "the == operator "
   ]
  },
  {
   "cell_type": "markdown",
   "metadata": {},
   "source": [
    "**Challenge:** Prove/disprove the Collatz conjecture :)"
   ]
  },
  {
   "cell_type": "markdown",
   "metadata": {},
   "source": [
    "k gimme my $500"
   ]
  },
  {
   "cell_type": "markdown",
   "metadata": {},
   "source": [
    "### Chapter 7.5\n",
    "Encapsulate the loop from Section 7.5 in a function called `square_root` that takes `a` as a parameter, chooses a reasonable value of `x`, and returns an estimate of the square root of `a`."
   ]
  },
  {
   "cell_type": "code",
   "execution_count": 11,
   "metadata": {
    "collapsed": false
   },
   "outputs": [
    {
     "name": "stdout",
     "output_type": "stream",
     "text": [
      "2.0\n",
      "10.0\n"
     ]
    }
   ],
   "source": [
    "def square_root(a):\n",
    "    #arbitrarily chose a good approximation of sqr root to be a/4\n",
    "    x = a / 4\n",
    "    #arbirtarily chose 10 as the number of iterations to make\n",
    "    for i in range (0,10):\n",
    "        #could probably be done with recursion\n",
    "        x = equation(a,x)\n",
    "    return x\n",
    "    \n",
    "def equation(a,x):\n",
    "    return (x + a / x)/2\n",
    "\n",
    "print(square_root(4))\n",
    "print(square_root(100))"
   ]
  },
  {
   "cell_type": "markdown",
   "metadata": {},
   "source": [
    "### Exercise 7.1  \n",
    "To test the square root algorithm you developed in Exercise 2, you could compare it with Python's `math.sqrt` function. Write a function named `test_square_root` that prints a table like this:\n",
    "\n",
    "```python\n",
    "1.0 1.0           1.0           0.0\n",
    "2.0 1.41421356237 1.41421356237 2.22044604925e-16\n",
    "3.0 1.73205080757 1.73205080757 0.0\n",
    "4.0 2.0           2.0           0.0\n",
    "5.0 2.2360679775  2.2360679775  0.0\n",
    "6.0 2.44948974278 2.44948974278 0.0\n",
    "7.0 2.64575131106 2.64575131106 0.0\n",
    "8.0 2.82842712475 2.82842712475 4.4408920985e-16\n",
    "9.0 3.0           3.0           0.0\n",
    "```\n",
    "\n",
    "The first column is a number, `a`; the second column is the square root of a computed with the function from Section 7.5; the third column is the square root computed by `math.sqrt`; the fourth column is the absolute value of the difference between the two estimates."
   ]
  },
  {
   "cell_type": "code",
   "execution_count": 28,
   "metadata": {
    "collapsed": false
   },
   "outputs": [
    {
     "name": "stdout",
     "output_type": "stream",
     "text": [
      "1.0 1.0            1.0            0.0\n",
      "2.0 1.41421356237  1.41421356237  2.220446049250313e-16\n",
      "3.0 1.73205080757  1.73205080757  0.0\n",
      "4.0 2.0            2.0            0.0\n",
      "5.0 2.2360679775   2.2360679775   0.0\n",
      "6.0 2.44948974278  2.44948974278  0.0\n",
      "7.0 2.64575131106  2.64575131106  0.0\n",
      "8.0 2.82842712475  2.82842712475  4.440892098500626e-16\n",
      "9.0 3.0            3.0            0.0\n"
     ]
    }
   ],
   "source": [
    "def test_square_root():\n",
    "    import math\n",
    "    for num in range (1,10):\n",
    "        #establishes the values for each column\n",
    "        ex = square_root(num)\n",
    "        act = math.sqrt(num)\n",
    "        dif = math.fabs(ex-act)\n",
    "        \n",
    "        #rounds the first two values to the same as the example\n",
    "        ex = round(ex,11)\n",
    "        act = round(act,11)\n",
    "        #the last column is not rounded\n",
    "        \n",
    "        #establishes the number of spaces, similar to right_justify\n",
    "        space1 = (13-len(str(ex))) * ' '\n",
    "        space2 = (13-len(str(act))) * ' '\n",
    "        \n",
    "        #prints it all instead of storing\n",
    "        print(num*1.0,ex, space1, act, space2, dif)\n",
    "        \n",
    "def square_root(a):\n",
    "    x = a / 4\n",
    "    for i in range (0,10):\n",
    "        x = equation(a,x)\n",
    "    return x\n",
    "    \n",
    "def equation(a,x):\n",
    "    return (x + a / x)/2\n",
    "\n",
    "test_square_root()"
   ]
  },
  {
   "cell_type": "markdown",
   "metadata": {},
   "source": [
    "### Challenge: Exercise 7.3  (optional)\n",
    "The mathematician Srinivasa Ramanujan found an infinite series that can be used to generate a numerical approximation of\n",
    "$\\frac{1}{\\pi}$:\n",
    "\n",
    "$$\\frac{1}{\\pi} = \\frac{2 \\sqrt{2}}{9801} \\sum_{k=0}^{\\infty} \\frac{(4k)! (1103+26390k)}{(k!)^4 396^{4k}}$$\n",
    " \n",
    "Write a function called `estimate_pi` that uses this formula to compute and return an estimate of $\\pi$. It should use a `while` loop to compute terms of the summation until the last term is smaller than `1e-15` (which is Python notation for $10^{−15}$). You can check the result by comparing it to `math.pi`.\n",
    "\n",
    "[Possible solution](http://thinkpython.com/code/pi.py) (give the exercise a try before viewing the solution)"
   ]
  },
  {
   "cell_type": "code",
   "execution_count": 45,
   "metadata": {
    "collapsed": false
   },
   "outputs": [
    {
     "name": "stdout",
     "output_type": "stream",
     "text": [
      "0.3183098861837907\n",
      "0.3183098861837907\n"
     ]
    }
   ],
   "source": [
    "import math\n",
    "def estimate_pi():\n",
    "    e = 1;\n",
    "    sum = 0\n",
    "    k = 0\n",
    "    while(e > 1e-15):\n",
    "        e = (math.factorial(4*k)*(1103 + 26390*k))/(((math.factorial(k))**4) * ((396**(4*k))))\n",
    "        sum += e\n",
    "        k = k+1\n",
    "    sum = sum * ((2*math.sqrt(2))/9801)\n",
    "    return sum\n",
    "print(estimate_pi())\n",
    "print(1/math.pi)"
   ]
  },
  {
   "cell_type": "markdown",
   "metadata": {},
   "source": [
    "## Quick poll\n",
    "\n",
    "About how long did you spend working on this Reading Journal?"
   ]
  },
  {
   "cell_type": "markdown",
   "metadata": {},
   "source": [
    "roughly 2 hours"
   ]
  },
  {
   "cell_type": "markdown",
   "metadata": {},
   "source": [
    "## Reading Journal feedback\n",
    "\n",
    "Have any comments on this Reading Journal? Feel free to leave them below and we'll read them when you submit your journal entry. This could include suggestions to improve the exercises, topics you'd like to see covered in class next time, or other feedback.\n",
    "\n",
    "If you have Python questions or run into problems while completing the reading, you should post them to Piazza instead so you can get a quick response before your journal is submitted."
   ]
  },
  {
   "cell_type": "markdown",
   "metadata": {},
   "source": [
    "It went pretty smoothly, the only issues were specific syntax things"
   ]
  },
  {
   "cell_type": "markdown",
   "metadata": {},
   "source": [
    "Notes\n",
    "------\n",
    "CHAPTER 6\n",
    "\n",
    "1. Return Syntax\n",
    "('return value')\n",
    "('Automatically ends function')\n",
    "2. Incremental Development\n",
    "2. Make easily testable changes and thuroughly test between each step\n",
    "2. Useful for developing code in a controlled manner\n",
    "2. Difficulty is in deriving what the small steps should be\n",
    "\n",
    "CHAPTER 7\n",
    "\n",
    "1. while statement\n",
    "2. Doesn't need parentheses\n",
    "3. continues until its condition is false\n",
    "4. break can be used to exsit currently excecuting loop or if\n",
    "5. Algorithms are general solutions to problems instead of specific ones\n",
    "\n",
    "\n"
   ]
  },
  {
   "cell_type": "code",
   "execution_count": null,
   "metadata": {
    "collapsed": true
   },
   "outputs": [],
   "source": []
  }
 ],
 "metadata": {
  "kernelspec": {
   "display_name": "Python 3",
   "language": "python",
   "name": "python3"
  },
  "language_info": {
   "codemirror_mode": {
    "name": "ipython",
    "version": 3
   },
   "file_extension": ".py",
   "mimetype": "text/x-python",
   "name": "python",
   "nbconvert_exporter": "python",
   "pygments_lexer": "ipython3",
   "version": "3.5.2"
  }
 },
 "nbformat": 4,
 "nbformat_minor": 0
}
