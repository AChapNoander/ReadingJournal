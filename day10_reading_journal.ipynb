{
 "cells": [
  {
   "cell_type": "markdown",
   "metadata": {},
   "source": [
    "# Day 10 Reading Journal\n",
    "\n",
    "This journal includes several required exercises, but it is meant to encourage active reading more generally.  You should use the journal to take detailed notes, catalog questions, and explore the content from Think Python deeply.\n",
    "\n",
    "Reading: Review Think Python Chapters 15-17\n",
    "\n",
    "**Due: Thursday, February 23 at 12 noon**\n",
    "\n"
   ]
  },
  {
   "cell_type": "markdown",
   "metadata": {},
   "source": [
    "## [Chapter 15](http://www.greenteapress.com/thinkpython2/html/thinkpython2016.html), [Chapter 16](http://www.greenteapress.com/thinkpython2/html/thinkpython2017.html), [Chapter 17](http://www.greenteapress.com/thinkpython2/html/thinkpython2018.html)\n",
    "\n",
    "\n",
    "By the end of chapter 17, we have all the tools we need to create our own user-defined types known as classes. In this reading journal, we're asking you to review and solidify your understanding of this material so we can build on it for the rest of the course. \n",
    "\n",
    "If you didn't get a chance to fully complete the Day 9 reading journal, you may want to do so now."
   ]
  },
  {
   "cell_type": "markdown",
   "metadata": {
    "problem": "Terminology"
   },
   "source": [
    "### Terminology\n",
    "\n",
    "You should be familiar with the following list of terms and concepts. If any of them are unclear to you, re-read, ask, write a definition in your own words, and try an example if appropriate.\n",
    "\n",
    " - class\n",
    " - object\n",
    " - instance\n",
    " - attribute\n",
    " - method\n",
    " - shallow vs deep copying\n",
    " - pure functions vs modifiers\n",
    " - initializing object instances\n",
    " "
   ]
  },
  {
   "cell_type": "markdown",
   "metadata": {
    "is_question": true,
    "problem": "Exercise 1"
   },
   "source": [
    "### Exercise\n",
    "\n",
    "We're going to take the first steps toward writing a calendar application. To keep things simple, we'll restrict ourselves to a single day for now. Write an `Event` class with the following attributes:\n",
    "\n",
    " - `name`  : Title for the `Event`\n",
    " - `start` : `Time` object representing the start time for the `Event`\n",
    " - `end`   : `Time` object representing the end time for the `Event`\n",
    "\n",
    "You can also augment your `Event` class with additional attributes, such as location and attendees.\n",
    "\n",
    "Write `__init__` and `__str__` methods for your `Event` class."
   ]
  },
  {
   "cell_type": "code",
   "execution_count": 4,
   "metadata": {
    "collapsed": false,
    "solution": "Exercise 1"
   },
   "outputs": [
    {
     "name": "stdout",
     "output_type": "stream",
     "text": [
      "Event(SoftDes, 1: 23: 56, 10: 30: 20)\n"
     ]
    }
   ],
   "source": [
    "class Time(object):\n",
    "    def __init__(self,h,m,s):\n",
    "        self.hour = h\n",
    "        self.minute = m\n",
    "        self.second = s\n",
    "    def __str__(self):\n",
    "        return '%d: %d: %d' % (self.hour, self.minute, self.second)\n",
    "\n",
    "class Event(object):\n",
    "    def __init__(self, name, start, end):\n",
    "        self.name = name\n",
    "        self.start = start\n",
    "        self.end = end\n",
    "    def __str__(self):\n",
    "        return 'Event(%s, %s, %s)' % (self.name, self.start, self.end)\n",
    "        \n",
    "birthday = Event('SoftDes', Time(1,23,56), Time(10, 30, 20))\n",
    "print(birthday)"
   ]
  },
  {
   "cell_type": "markdown",
   "metadata": {
    "is_question": true,
    "problem": "Exercise 2"
   },
   "source": [
    "### Exercise\n",
    "\n",
    "Write a `duration` method that returns the duration of the `Event` in minutes."
   ]
  },
  {
   "cell_type": "code",
   "execution_count": 14,
   "metadata": {
    "collapsed": false,
    "solution": "Exercise 2"
   },
   "outputs": [
    {
     "name": "stdout",
     "output_type": "stream",
     "text": [
      "Event Duration: 9: 6: 24\n"
     ]
    }
   ],
   "source": [
    "class Time(object):\n",
    "    def __init__(self,h,m,s):\n",
    "        self.hour = h\n",
    "        self.minute = m\n",
    "        self.second = s\n",
    "    def __str__(self):\n",
    "        return '%d: %d: %d' % (self.hour, self.minute, self.second)\n",
    "\n",
    "class Event(object):\n",
    "    def __init__(self, name, start, end):\n",
    "        self.name = name\n",
    "        self.start = start\n",
    "        self.end = end\n",
    "    def __str__(self):\n",
    "        return 'Event(%s, %s, %s)' % (self.name, self.start, self.end)\n",
    "    def duration(self):\n",
    "        total = (self.end.hour - self.start.hour) * 60 * 60\n",
    "        total += (self.end.minute - self.start.minute) * 60\n",
    "        total += self.end.second - self.start.second\n",
    "        hours = total/(60*60)\n",
    "        mins = (total - (int(hours) * 60 * 60))/60\n",
    "        secs = total - int(hours) * 60 * 60- (int(mins)*60)\n",
    "        return 'Event Duration: %d: %d: %d' % (hours, mins, secs)\n",
    "    \n",
    "birthday = Event('SoftDes', Time(1,23,56), Time(10, 30, 20))\n",
    "print(birthday.duration())\n"
   ]
  },
  {
   "cell_type": "markdown",
   "metadata": {
    "is_question": true,
    "problem": "Exercise 3"
   },
   "source": [
    "### Exercise\n",
    "\n",
    "Write an `Agenda` class that contains several `Event`s for the day.\n",
    "\n",
    "**Quick check: ** How should you store `Event`s within your `Agenda` class?\n"
   ]
  },
  {
   "cell_type": "markdown",
   "metadata": {},
   "source": [
    "Store them as objects within the larger agenda object"
   ]
  },
  {
   "cell_type": "markdown",
   "metadata": {},
   "source": [
    " "
   ]
  },
  {
   "cell_type": "markdown",
   "metadata": {},
   "source": [
    "Your `Agenda` class should include a `print_agenda` method that prints out your schedule for the day, in order.\n",
    "\n",
    "**Optional:** Include a `is_feasible` method that returns `True` if your schedule has no time conflicts. You may want to write additional helper methods for the `Event` class to make this easier."
   ]
  },
  {
   "cell_type": "code",
   "execution_count": 55,
   "metadata": {
    "collapsed": false,
    "solution": "Exercise 3"
   },
   "outputs": [
    {
     "name": "stdout",
     "output_type": "stream",
     "text": [
      "Linearity:\t 10: 50: 0 to 13: 31: 0\n",
      "SoftDes:\t 13: 30: 0 to 15: 10: 0\n",
      "IntroVED:\t 18: 0: 0 to 19: 30: 0\n",
      "Events Interfere: SoftDes starts too early.\n"
     ]
    }
   ],
   "source": [
    "class Time(object):\n",
    "    def __init__(self,h,m,s):\n",
    "        self.hour = h\n",
    "        self.minute = m\n",
    "        self.second = s\n",
    "    def __str__(self):\n",
    "        return '%d: %d: %d' % (self.hour, self.minute, self.second)\n",
    "    def sec(self):\n",
    "        return self.hour*60*60 + self.minute * 60 + self.second\n",
    "\n",
    "class Event(object):\n",
    "    def __init__(self, name, start, end):\n",
    "        self.name = name\n",
    "        self.start = start\n",
    "        self.end = end\n",
    "    def __str__(self):\n",
    "        return '%s:\\t %s to %s' % (self.name, self.start, self.end)\n",
    "    def duration(self):\n",
    "        total = (self.end.hour - self.start.hour) * 60 * 60\n",
    "        total += (self.end.minute - self.start.minute) * 60\n",
    "        total += self.end.second - self.start.second\n",
    "        hours = total/(60*60)\n",
    "        mins = (total - (int(hours) * 60 * 60))/60\n",
    "        secs = total - int(hours) * 60 * 60- (int(mins)*60)\n",
    "        return 'Event Duration: %d: %d: %d' % (hours, mins, secs)\n",
    "    \n",
    "class Agenda(object):\n",
    "    def __init__(self, contents=None):\n",
    "        if contents == None:\n",
    "            contents = []\n",
    "        self.schedule_contents = contents\n",
    "        \n",
    "    def add_event(self, event):\n",
    "        self.schedule_contents.append(event)\n",
    "        \n",
    "    def __str__(self):\n",
    "        for event in self.schedule_contents:\n",
    "            print(event)\n",
    "        return 'End of Day\\n'\n",
    "    \n",
    "    def print_agenda(self):\n",
    "        self.in_order_list = find_earliest(self.schedule_contents)\n",
    "        for event in self.in_order_list:\n",
    "            print(event)\n",
    "\n",
    "    def is_feasible(self):\n",
    "        self.print_agenda()\n",
    "        last_start = 0\n",
    "        for event in self.in_order_list:\n",
    "            if event.start.sec() < last_start:\n",
    "                return 'Events Interfere: %s starts too early.' % (event.name)\n",
    "            last_start = event.end.sec()\n",
    "        return 'This schedule is possible.'\n",
    "                \n",
    "def find_earliest(ls):\n",
    "    blank = []\n",
    "    ev = {}\n",
    "    for event in ls:\n",
    "        ev[event.start.sec()] = event\n",
    "    times = sorted(list(ev.keys()))\n",
    "    for i in times:\n",
    "        blank.append(ev[i])\n",
    "    return blank\n",
    "    \n",
    "    \n",
    "today = Agenda()\n",
    "course = Event('Linearity', Time(10,50,0), Time(13,31,0))\n",
    "course1 = Event('SoftDes', Time(13,30,0), Time(15,10,0))\n",
    "course2 = Event('IntroVED', Time(18,0,0), Time(19,30,0))\n",
    "today.add_event(course1)\n",
    "today.add_event(course2)\n",
    "today.add_event(course)\n",
    "print(today.is_feasible())"
   ]
  },
  {
   "cell_type": "markdown",
   "metadata": {
    "is_question": true,
    "problem": "Exercise 4"
   },
   "source": [
    "### Going Beyond (optional)\n",
    "\n",
    "Some ideas for taking your application further:\n",
    " - Add people and/or places to the mix to create a scheduling assistant\n",
    " - Extend support for day-of-week or full date. A word of warning: dealing with dates and times in real applications is difficult due to the huge number of special cases (Perfect example: this reading journal is due on Leap Day). Consider using something like the Python [datetime](https://docs.python.org/3/library/datetime.html) module.\n",
    " - Use pickle or some other persistence strategy to save and load your `Agenda`."
   ]
  },
  {
   "cell_type": "code",
   "execution_count": null,
   "metadata": {
    "collapsed": true,
    "solution": "Exercise 4"
   },
   "outputs": [],
   "source": []
  },
  {
   "cell_type": "markdown",
   "metadata": {
    "poll_response": true,
    "solution": "Time spent"
   },
   "source": [
    " "
   ]
  },
  {
   "cell_type": "markdown",
   "metadata": {
    "is_question": true,
    "problem": "Feedback"
   },
   "source": [
    "## Reading Journal feedback\n",
    "\n",
    "[Please complete this short survey](https://docs.google.com/forms/d/e/1FAIpQLScQekhUrf6YYjpfQiAAbavLIA-IJklv_PX1BWbGgxj7JPolmw/viewform?c=0&w=1)\n",
    "\n",
    "If you have any comments on this Reading Journal, feel free to leave them in the survey linked above. This could include suggestions to improve the exercises, topics you'd like to see covered in class next time, or other feedback.\n",
    "\n",
    "If you have Python questions or run into problems while completing the reading, you should post them to Piazza instead so you can get a quick response before your journal is submitted."
   ]
  },
  {
   "cell_type": "markdown",
   "metadata": {
    "feedback_response": true,
    "solution": "Feedback"
   },
   "source": [
    " "
   ]
  }
 ],
 "metadata": {
  "kernelspec": {
   "display_name": "Python 3",
   "language": "python",
   "name": "python3"
  },
  "language_info": {
   "codemirror_mode": {
    "name": "ipython",
    "version": 3
   },
   "file_extension": ".py",
   "mimetype": "text/x-python",
   "name": "python",
   "nbconvert_exporter": "python",
   "pygments_lexer": "ipython3",
   "version": "3.5.2"
  }
 },
 "nbformat": 4,
 "nbformat_minor": 0
}
