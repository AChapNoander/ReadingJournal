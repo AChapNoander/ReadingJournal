{
 "cells": [
  {
   "cell_type": "markdown",
   "metadata": {},
   "source": [
    "# Day 7 Reading Journal\n",
    "\n",
    "This journal includes several required exercises, but it is meant to encourage active reading more generally.  You should use the journal to take detailed notes, catalog questions, and explore the content from Think Python deeply.\n",
    "\n",
    "Reading: Think Python Chapter 11, 12\n",
    "\n",
    "**Due: Monday, February 13 at 12 noon**\n",
    "\n"
   ]
  },
  {
   "cell_type": "markdown",
   "metadata": {},
   "source": [
    "## [Chapter 11](http://www.greenteapress.com/thinkpython/html/thinkpython012.html)\n"
   ]
  },
  {
   "cell_type": "markdown",
   "metadata": {},
   "source": [
    "**Quick check:** In about one sentence using your own words, what is a dictionary?"
   ]
  },
  {
   "cell_type": "markdown",
   "metadata": {},
   "source": [
    "A non-ordered list of values with associated 'keys' stored next to them. \n",
    "Syntax is:\n",
    "\n",
    "lib = {'key1':480, 'key2':200}"
   ]
  },
  {
   "cell_type": "markdown",
   "metadata": {},
   "source": [
    " "
   ]
  },
  {
   "cell_type": "markdown",
   "metadata": {
    "is_question": true,
    "problem": "Exercise 11.2"
   },
   "source": [
    "### Exercise 11.2  \n",
    "\n",
    "Dictionaries have a method called [`get`](https://docs.python.org/3/library/stdtypes.html#mapping-types-dict) that takes a key and a default value. If the key appears in the dictionary, `get` returns the corresponding value; otherwise it returns the default value. For example:\n",
    "\n",
    "```\n",
    ">>> h = histogram('a')\n",
    ">>> print h\n",
    "{'a': 1}\n",
    ">>> h.get('a', 0)\n",
    "1\n",
    ">>> h.get('b', 0)\n",
    "0\n",
    "```\n",
    "\n",
    "Use `get` to write `histogram` more concisely. You should be able to eliminate the `if` statement. Add unit tests for your histogram implementation."
   ]
  },
  {
   "cell_type": "code",
   "execution_count": 60,
   "metadata": {
    "collapsed": false,
    "solution": "Exercise 11.2"
   },
   "outputs": [
    {
     "data": {
      "text/plain": [
       "TestResults(failed=0, attempted=2)"
      ]
     },
     "execution_count": 60,
     "metadata": {},
     "output_type": "execute_result"
    }
   ],
   "source": [
    "def histogram(s):\n",
    "    d = dict()\n",
    "    for c in s:\n",
    "        if c not in d:\n",
    "            d[c] = 1\n",
    "        else:\n",
    "            d[c] += 1\n",
    "    return d\n",
    "\n",
    "def histogram_concise(s):\n",
    "    \"\"\"\n",
    "        A method designed to emulate histogram more simply\n",
    "        input: String\n",
    "        output: dictionary containing the keys of the characters, and the values of the number of that letter\n",
    "            in the string\n",
    "            \n",
    "        >>> histogram_concise('test this python')\n",
    "        {' ': 2, 'n': 1, 'e': 1, 'y': 1, 'h': 2, 'o': 1, 't': 4, 'p': 1, 's': 2, 'i': 1}\n",
    "    \n",
    "        >>> histogram_concise('abcdefghiihgfedcba')\n",
    "        {'d': 2, 'g': 2, 'e': 2, 'a': 2, 'c': 2, 'i': 2, 'h': 2, 'b': 2, 'f': 2}\n",
    "    \"\"\"\n",
    "    d = dict()\n",
    "    for c in s:\n",
    "        d[c] = d.get(c, 0) + 1\n",
    "    return d\n",
    "    \n",
    "\n",
    "import doctest\n",
    "doctest.testmod()"
   ]
  },
  {
   "cell_type": "markdown",
   "metadata": {},
   "source": [
    " "
   ]
  },
  {
   "cell_type": "markdown",
   "metadata": {
    "is_question": true,
    "problem": "Exercise 11.4"
   },
   "source": [
    "### Exercise 11.4  \n",
    "\n",
    "Modify `reverse_lookup` so that it builds and returns a list of all keys that map to `v`, or an empty list if there are none. Add unit tests for your implementation."
   ]
  },
  {
   "cell_type": "code",
   "execution_count": 61,
   "metadata": {
    "collapsed": false,
    "solution": "Exercise 11.4"
   },
   "outputs": [
    {
     "name": "stdout",
     "output_type": "stream",
     "text": [
      "['c', 'h']\n",
      "['e', 'i', 'a']\n",
      "Trying:\n",
      "    reverse_lookup(histogram_concise('this is a test case'), 1)\n",
      "Expecting:\n",
      "    ['c', 'h']\n",
      "ok\n",
      "Trying:\n",
      "    reverse_lookup(histogram_concise('abcdefgabcdefg'), 1)\n",
      "Expecting:\n",
      "    []\n",
      "ok\n",
      "4 items had no tests:\n",
      "    __main__\n",
      "    __main__.histogram\n",
      "    __main__.histogram_concise\n",
      "    __main__.sum_all\n",
      "1 items passed all tests:\n",
      "   2 tests in __main__.reverse_lookup\n",
      "2 tests in 5 items.\n",
      "2 passed and 0 failed.\n",
      "Test passed.\n"
     ]
    },
    {
     "data": {
      "text/plain": [
       "TestResults(failed=0, attempted=2)"
      ]
     },
     "execution_count": 61,
     "metadata": {},
     "output_type": "execute_result"
    }
   ],
   "source": [
    "def histogram_concise(s):\n",
    "    d = dict()\n",
    "    for c in s:\n",
    "        d[c] = d.get(c, 0) + 1\n",
    "    return d\n",
    "\n",
    "def reverse_lookup(d, v):\n",
    "    \"\"\"\n",
    "        Parameters: d   (dictionary containing values to be reverse looked up)\n",
    "                    v   (value to be searched for)\n",
    "                    \n",
    "        >>> reverse_lookup(histogram_concise('this is a test case'), 1)\n",
    "        ['c', 'h']\n",
    "        \n",
    "        >>> reverse_lookup(histogram_concise('abcdefgabcdefg'), 1)\n",
    "        []\n",
    "    \"\"\"\n",
    "    key_list = []\n",
    "    for k in d:\n",
    "        if d[k] == v:\n",
    "            key_list.append(k)\n",
    "    return key_list\n",
    "    \n",
    "\n",
    "print(reverse_lookup(histogram_concise('this is a test case'),1))\n",
    "print(reverse_lookup(histogram_concise('this is a test case'),2))\n",
    "\n",
    "import doctest\n",
    "doctest.testmod(verbose=True)\n"
   ]
  },
  {
   "cell_type": "markdown",
   "metadata": {},
   "source": [
    "If you'd like to learn more about errors and exceptions, you can check out the [Python tutorial](https://docs.python.org/3/tutorial/errors.html) or read ahead to [Appendix A](http://www.greenteapress.com/thinkpython2/html/thinkpython2021.html) of Think Python. If you choose to use doctest for your unit testing, it can also [deal with exceptions](https://docs.python.org/3/library/doctest.html#what-about-exceptions)."
   ]
  },
  {
   "cell_type": "markdown",
   "metadata": {},
   "source": [
    " "
   ]
  },
  {
   "cell_type": "markdown",
   "metadata": {},
   "source": [
    "**Quick check** What type of objects can be used as keys to a dictionary, i.e. what property must they have?"
   ]
  },
  {
   "cell_type": "markdown",
   "metadata": {},
   "source": [
    "tuples can be used as dictionary keys because they are immutable, i.e. they cannot be changed"
   ]
  },
  {
   "cell_type": "markdown",
   "metadata": {},
   "source": [
    " "
   ]
  },
  {
   "cell_type": "markdown",
   "metadata": {
    "is_question": true,
    "problem": "Exercise 11.6"
   },
   "source": [
    "### Exercise 11.6 (modified)\n",
    "\n",
    "Create a memoized version of your Levenshtein distance function from Day 7. What kind of performance change do you see?\n",
    "\n",
    "Optional: If you'd like to get some quantitative results, you could check out the [timeit](https://docs.python.org/3/library/timeit.html) module\n",
    "\n",
    "Note: You can also study Fibonacci here if you prefer."
   ]
  },
  {
   "cell_type": "code",
   "execution_count": null,
   "metadata": {
    "collapsed": true,
    "solution": "Exercise 11.6"
   },
   "outputs": [],
   "source": [
    "def fib(n, d={0: 1, 1: 1}):\n",
    "    if n < 0:\n",
    "        return 0\n",
    "    elif n == 0:\n",
    "        return 1\n",
    "    else:\n",
    "        term_1 = -1\n",
    "        term_2 = -1\n",
    "        if d.get(n-1, -1) == -1:\n",
    "            d[n-1] = fib(n-1)\n",
    "        term_1 = d[n-1]\n",
    "        if d.get(n-2, -1) == -1:\n",
    "            d[n-2] = fib(n-2)\n",
    "        term_2 = d[n-2]\n",
    "        return term_1 + term_2\n",
    "    \n",
    "#gives a significant time benefit, roughly 53 seconds faster for finding\n",
    "# the 40th fibonacci number"
   ]
  },
  {
   "cell_type": "markdown",
   "metadata": {},
   "source": [
    " "
   ]
  },
  {
   "cell_type": "markdown",
   "metadata": {},
   "source": [
    "## [Chapter 12](http://www.greenteapress.com/thinkpython2/html/thinkpython2013.html)\n",
    "\n",
    "**Quick check:** In about one sentence using your own words, what is a tuple?"
   ]
  },
  {
   "cell_type": "markdown",
   "metadata": {},
   "source": [
    "an ordered list whose components cannot be modified"
   ]
  },
  {
   "cell_type": "markdown",
   "metadata": {},
   "source": [
    " "
   ]
  },
  {
   "cell_type": "markdown",
   "metadata": {
    "is_question": true,
    "problem": "Exercise 12.1"
   },
   "source": [
    "### Chapter 12.4  \n",
    "\n",
    "Many of the built-in functions use variable-length argument tuples. For example, `max` and `min` can take any number of arguments:\n",
    "\n",
    "```\n",
    ">>> max(1,2,3)\n",
    "3\n",
    "```\n",
    "\n",
    "But `sum` does not.\n",
    "\n",
    "```\n",
    ">>> sum(1,2,3)\n",
    "TypeError: sum expected at most 2 arguments, got 3\n",
    "```\n",
    "\n",
    "Write a function called ```sumall``` that takes any number of arguments and returns their sum. \n",
    "\n",
    "Write unit tests for your function. Do I actually need to keep saying this? Let's assume it's always a good idea :)"
   ]
  },
  {
   "cell_type": "code",
   "execution_count": 64,
   "metadata": {
    "collapsed": false,
    "solution": "Exercise 12.1"
   },
   "outputs": [
    {
     "data": {
      "text/plain": [
       "TestResults(failed=0, attempted=4)"
      ]
     },
     "execution_count": 64,
     "metadata": {},
     "output_type": "execute_result"
    }
   ],
   "source": [
    "def sum_all(*arg):\n",
    "    \"\"\"\n",
    "        Parameters: Unknown number of arguments \n",
    "        Output: Sum of all inputs\n",
    "        \n",
    "        >>> sum_all(1,2,3,4,5,6,7,8,9,10)\n",
    "        55\n",
    "        >>> sum_all(1,2,3)\n",
    "        6\n",
    "    \"\"\"\n",
    "    length = len(arg)\n",
    "    sum = 0\n",
    "    for r in arg:\n",
    "        sum += r\n",
    "    return sum\n",
    "        \n",
    "import doctest\n",
    "doctest.testmod()"
   ]
  },
  {
   "cell_type": "markdown",
   "metadata": {},
   "source": [
    "If you're interested in more flexible ways to pass arguments to functions, check out the [Python tutorial](https://docs.python.org/3/tutorial/controlflow.html#more-on-defining-functions). For instance, you can also use keyword arguments, which are collected into a dictionary just like `*` gathers variable numbers of positional arguments into a tuple.\n",
    "\n",
    "This pattern is very common for defining functions with complex optional behaviors in Python, and you will often see definitions like:\n",
    "\n",
    "```\n",
    "def my_func(required_argument1, *arguments, **keywords):\n",
    "    ...\n",
    "```"
   ]
  },
  {
   "cell_type": "markdown",
   "metadata": {},
   "source": [
    " "
   ]
  },
  {
   "cell_type": "markdown",
   "metadata": {
    "is_question": true,
    "problem": "Exercise 12 sort"
   },
   "source": [
    "### Exercise\n",
    "\n",
    "Write a function `sort_by_last_letter` that takes a list of words and returns a new list with the words sorted alphabetically by the _last letter_ in the word. Hint: use the **Decorate, Sort, Undecorate** pattern. Write unit tests for your function."
   ]
  },
  {
   "cell_type": "code",
   "execution_count": 80,
   "metadata": {
    "collapsed": false,
    "solution": "Exercise 12 sort"
   },
   "outputs": [
    {
     "data": {
      "text/plain": [
       "TestResults(failed=0, attempted=6)"
      ]
     },
     "execution_count": 80,
     "metadata": {},
     "output_type": "execute_result"
    }
   ],
   "source": [
    "def sort_by_last_letter(list_of_words):\n",
    "    \"\"\"\n",
    "        Parameter: List of words to be sorted\n",
    "        Output: List of words sorted by last letter\n",
    "        \n",
    "        >>> sort_by_last_letter(['alex', 'sean', 'chris', 'anil', 'aurora', 'peter', 'colvin'])\n",
    "        ['aurora', 'anil', 'colvin', 'peter', 'chris', 'alex']\n",
    "        \n",
    "        >>> sort_by_last_letter(['a','b','c','d','e','f','g'])\n",
    "        ['a', 'b', 'c', 'd', 'e', 'f', 'g']\n",
    "    \"\"\"\n",
    "    d = {}\n",
    "    for word in list_of_words:\n",
    "        key = word[len(word)-1:]\n",
    "        d[key] = word\n",
    "    last_letters = d.keys()\n",
    "    last_letters = sorted(last_letters)\n",
    "    new_list = []\n",
    "    for letter in last_letters:\n",
    "        new_list.append(d[letter])\n",
    "    print(new_list)\n",
    "    \n",
    "import doctest\n",
    "doctest.testmod()\n",
    "    "
   ]
  },
  {
   "cell_type": "markdown",
   "metadata": {},
   "source": [
    " "
   ]
  },
  {
   "cell_type": "markdown",
   "metadata": {},
   "source": [
    "**Quick check** Give an example of when you might use each sequence type:\n",
    "\n",
    "- tuple\n",
    "\n",
    "- list\n",
    "\n",
    "- string"
   ]
  },
  {
   "cell_type": "markdown",
   "metadata": {},
   "source": []
  },
  {
   "cell_type": "markdown",
   "metadata": {},
   "source": [
    " "
   ]
  },
  {
   "cell_type": "markdown",
   "metadata": {
    "is_question": true,
    "problem": "Exercise 12.3"
   },
   "source": [
    "### Exercise 12.1 \n",
    "\n",
    "Write a function called `most_frequent` that takes a string and prints the letters in decreasing order of frequency. Find text samples from several different languages and see how letter frequency varies between languages. Compare your results with the tables at http://en.wikipedia.org/wiki/Letter_frequencies. \n",
    "\n",
    "Allen's solution (try it on your own first): http://greenteapress.com/thinkpython2/code/most_frequent.py. "
   ]
  },
  {
   "cell_type": "code",
   "execution_count": 122,
   "metadata": {
    "collapsed": false,
    "solution": "Exercise 12.3"
   },
   "outputs": [
    {
     "name": "stdout",
     "output_type": "stream",
     "text": [
      "['e', 't', 'a', 'o', 'i', 'n', 's', 'h', 'r', 'd', 'l', 'u', 'c', 'm', 'f', 'w', 'p', 'g', 'y', 'b', 'v', 'k', 'x', 'q', 'j', 'z'] \n",
      "\n",
      "[12.661197061016052, 9.580772871455522, 8.134672096922637, 7.372818552062907, 7.115078141908065, 7.029383281195006, 6.643100579970575, 5.914038435893905, 5.628534639742741, 4.223532420857954, 3.9950856620693123, 3.0187763560883796, 2.8141580152020933, 2.4320288914101833, 2.3699438392609253, 2.338901313186297, 1.903431510787278, 1.7733589543478119, 1.5490657729916906, 1.4712408484665647, 0.9196894872955182, 0.6720051067141486, 0.1858179377706657, 0.1034022171359116, 0.0800110179106631, 0.06995498833719178] \n",
      "\n",
      "['e', 's', 'a', 'n', 'i', 't', 'r', 'u', 'l', 'o', 'd', 'c', 'm', 'p', 'é', 'v', 'q', 'f', 'g', 'b', 'h', 'j', 'à', 'x', 'è', 'y', 'ê', 'z', 'î', 'ô', 'â', 'ç', 'û', 'ù', 'k', 'w', 'ï', 'ë', 'æ'] \n",
      "\n",
      "[14.681620249627422, 8.623003213487332, 7.8469925950074515, 7.538887853949329, 7.229327729135618, 6.827059659090909, 6.54806259314456, 6.141573910208644, 5.39932819485842, 5.246221823770492, 3.79826052533532, 3.1645864381520115, 3.0675123416542474, 2.89373952123696, 1.872787816691505, 1.4825994318181819, 1.152081780923994, 1.017022168405365, 0.9349385245901639, 0.8848733233979136, 0.7818321535022354, 0.6103879470938897, 0.48260525335320414, 0.46077449701937406, 0.3650102459016394, 0.21496018070044706, 0.17930327868852458, 0.15135991058122206, 0.08659533345752607, 0.06592888412816691, 0.059379657228017885, 0.05690550484351714, 0.0486098174366617, 0.03303721125186289, 0.02925321348733234, 0.015863682935916543, 0.005239381520119225, 0.0023286140089418777, 0.00014553837555886736] \n",
      "\n"
     ]
    }
   ],
   "source": [
    "import re\n",
    "def histogram_concise(s):\n",
    "    \"\"\"\n",
    "        A method designed to emulate histogram more simply\n",
    "        input: String\n",
    "        output: dictionary containing the keys of the characters, and the values of the number of that letter\n",
    "            in the string\n",
    "            \n",
    "        >>> histogram_concise('test this python')\n",
    "        {' ': 2, 'n': 1, 'e': 1, 'y': 1, 'h': 2, 'o': 1, 't': 4, 'p': 1, 's': 2, 'i': 1}\n",
    "    \n",
    "        >>> histogram_concise('abcdefghiihgfedcba')\n",
    "        {'d': 2, 'g': 2, 'e': 2, 'a': 2, 'c': 2, 'i': 2, 'h': 2, 'b': 2, 'f': 2}\n",
    "    \"\"\"\n",
    "    d = dict()\n",
    "    for c in s:\n",
    "        d[c] = d.get(c, 0) + 1\n",
    "    return d\n",
    "\n",
    "def reverse_lookup(d, v):\n",
    "    \"\"\"\n",
    "        Parameters: d   (dictionary containing values to be reverse looked up)\n",
    "                    v   (value to be searched for)\n",
    "                    \n",
    "        >>> reverse_lookup(histogram_concise('this is a test case'), 1)\n",
    "        ['c', 'h']\n",
    "        \n",
    "        >>> reverse_lookup(histogram_concise('abcdefgabcdefg'), 1)\n",
    "        []\n",
    "    \"\"\"\n",
    "    key_list = []\n",
    "    for k in d:\n",
    "        if d[k] == v:\n",
    "            key_list.append(k)\n",
    "    return key_list\n",
    "\n",
    "def most_frequent():\n",
    "    \"\"\"\n",
    "        Analyzes English and French Text, in this case translated\n",
    "        versions of Jules Verne's Twenty Thousand Leagues Under the\n",
    "        Sea. The letter order is strikingly similar to that from \n",
    "        wikipedia, with just a few swapped around. \n",
    "        \n",
    "        Prints the list of characters in order of decreasing usage\n",
    "        followed by the percentage of text taken up by that character. \n",
    "        \n",
    "        Error is approximately .1 percent, and is likely due to the\n",
    "        individuality of Verne's writing style\n",
    "    \"\"\"\n",
    "    french = open('french.txt', 'r')\n",
    "    french_text = french.read()\n",
    "    english = open('english.txt', 'r')\n",
    "    english_text = english.read()\n",
    "    process(english_text)\n",
    "    process(french_text)\n",
    "\n",
    "def process(string):\n",
    "    string = string.lower()\n",
    "    rx = re.compile('\\W+')\n",
    "    string = rx.sub(' ', string).strip()\n",
    "    string = \"\".join(string.split())\n",
    "    string = ''.join([i for i in string if not i.isdigit()])\n",
    "    dictionary = histogram_concise(string)\n",
    "    least_to_most = []\n",
    "    first = True\n",
    "    d_len = len(dictionary)\n",
    "    vals = dictionary.values()\n",
    "    vals = sorted(vals)\n",
    "    in_order = []\n",
    "    for val in vals:\n",
    "        in_order.append(reverse_lookup(dictionary, val)[0])\n",
    "    in_order = in_order[::-1]\n",
    "    print(in_order,'\\n')\n",
    "    percentages(string, in_order, dictionary)\n",
    "    \n",
    "def percentages(string, in_order, d):\n",
    "    length = len(string)\n",
    "    percentages = []\n",
    "    \n",
    "    for letter in in_order:\n",
    "        num = d[letter]\n",
    "        percentages.append(num / length * 100)\n",
    "    print(percentages, '\\n')\n",
    "\n",
    "ENGLISH = ['e','t','a','o','i','n','s','h','r','d','l']\n",
    "FRENCH = ['e','s','a','i','t','n','r','u','o','l','d','c']\n",
    "    \n",
    "most_frequent()\n",
    "    \n",
    "    \n"
   ]
  },
  {
   "cell_type": "markdown",
   "metadata": {},
   "source": [
    " "
   ]
  },
  {
   "cell_type": "markdown",
   "metadata": {
    "is_question": true,
    "problem": "Exercise 12.6"
   },
   "source": [
    "### Challenge: Exercise 12.4   (optional)\n",
    "\n",
    "From a [Car Talk Puzzler](http://www.cartalk.com/content/puzzlers):\n",
    "\n",
    "What is the longest English word, that remains a valid English word, as you remove its letters one at a time?\n",
    "\n",
    "Now, letters can be removed from either end, or the middle, but you can’t rearrange any of the letters. Every time you drop a letter, you wind up with another English word. If you do that, you’re eventually going to wind up with one letter and that too is going to be an English word—one that’s found in the dictionary. I want to know what’s the longest word and how many letters does it have?\n",
    "\n",
    "I’m going to give you a little modest example: Sprite. Ok? You start off with sprite, you take a letter off, one from the interior of the word, take the r away, and we’re left with the word spite, then we take the e off the end, we’re left with spit, we take the s off, we’re left with pit, it, and I. \n",
    "\n",
    "Write a program to find all words that can be reduced in this way, and then find the longest one.\n",
    "\n",
    "This exercise is a little more challenging than most, so here are some suggestions:\n",
    "\n",
    "- You might want to write a function that takes a word and computes a list of all the words that can be formed by removing one letter. These are the “children” of the word.\n",
    "- Recursively, a word is reducible if any of its children are reducible. As a base case, you can consider the empty string reducible.\n",
    "- The word list from [Chapter 9.1](http://www.greenteapress.com/thinkpython2/html/thinkpython2010.html) Exercise 1 doesn’t contain single letter words. So you might want to add “I”, “a”, and the empty string.\n",
    "- To improve the performance of your program, you might want to memoize the words that are known to be reducible.\n",
    "\n",
    "Allen's solution: http://greenteapress.com/thinkpython2/code/reducible.py."
   ]
  },
  {
   "cell_type": "code",
   "execution_count": null,
   "metadata": {
    "collapsed": true,
    "solution": "Exercise 12.6"
   },
   "outputs": [],
   "source": []
  },
  {
   "cell_type": "markdown",
   "metadata": {},
   "source": [
    " "
   ]
  },
  {
   "cell_type": "markdown",
   "metadata": {
    "is_question": true,
    "problem": "Feedback"
   },
   "source": [
    "## Reading Journal feedback\n",
    "\n",
    "[Please complete this short survey](https://docs.google.com/forms/d/e/1FAIpQLScQekhUrf6YYjpfQiAAbavLIA-IJklv_PX1BWbGgxj7JPolmw/viewform?c=0&w=1)\n",
    "\n",
    "If you have any comments on this Reading Journal, feel free to leave them in the survey linked above. This could include suggestions to improve the exercises, topics you'd like to see covered in class next time, or other feedback.\n",
    "\n",
    "If you have Python questions or run into problems while completing the reading, you should post them to Piazza instead so you can get a quick response before your journal is submitted."
   ]
  },
  {
   "cell_type": "markdown",
   "metadata": {
    "feedback_response": true,
    "solution": "Feedback"
   },
   "source": [
    " "
   ]
  }
 ],
 "metadata": {
  "kernelspec": {
   "display_name": "Python 3",
   "language": "python",
   "name": "python3"
  },
  "language_info": {
   "codemirror_mode": {
    "name": "ipython",
    "version": 3
   },
   "file_extension": ".py",
   "mimetype": "text/x-python",
   "name": "python",
   "nbconvert_exporter": "python",
   "pygments_lexer": "ipython3",
   "version": "3.5.2"
  }
 },
 "nbformat": 4,
 "nbformat_minor": 0
}
